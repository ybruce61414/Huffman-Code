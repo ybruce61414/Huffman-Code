{
 "cells": [
  {
   "cell_type": "code",
   "execution_count": 27,
   "metadata": {
    "collapsed": false
   },
   "outputs": [
    {
     "data": {
      "text/plain": [
       "'Lorem Ipsum is simply dummy text of the printing and typesetting industry. Lorem Ipsum has been the industry\\'s standard dummy text ever since the 1500s, when an unknown printer took a galley of type and scrambled it to make a type specimen book. It has survived not only five centuries, but also the leap into electronic typesetting, remaining essentially unchanged. It was popularised in the 1960s with the release of Letraset sheets containing Lorem Ipsum passages, and more recently with desktop publishing software like Aldus PageMaker including versions of Lorem Ipsum.\\\\nContrary to popular belief, Lorem Ipsum is not simply random text. It has roots in a piece of classical Latin literature from 45 BC, making it over 2000 years old. Richard McClintock, a Latin professor at Hampden-Sydney College in Virginia, looked up one of the more obscure Latin words, consectetur, from a Lorem Ipsum passage, and going through the cites of the word in classical literature, discovered the undoubtable source. Lorem Ipsum comes from sections 1.10.32 and 1.10.33 of \"de Finibus Bonorum et Malorum\" (The Extremes of Good and Evil) by Cicero, written in 45 BC. This book is a treatise on the theory of ethics, very popular during the Renaissance. The first line of Lorem Ipsum, \"Lorem ipsum dolor sit amet..\", comes from a line in section 1.10.32.\\\\nThe standard chunk of Lorem Ipsum used since the 1500s is reproduced below for those interested. Sections 1.10.32 and 1.10.33 from \"de Finibus Bonorum et Malorum\" by Cicero are also reproduced in their exact original form, accompanied by English versions from the 1914 translation by H. Rackham.\\\\nIt is a long established fact that a reader will be distracted by the readable content of a page when looking at its layout. The point of using Lorem Ipsum is that it has a more-or-less normal distribution of letters, as opposed to using \\'Content here, content here\\', making it look like readable English. Many desktop publishing packages and web page editors now use Lorem Ipsum as their default model text, and a search for \\'lorem ipsum\\' will uncover many web sites still in their infancy. Various versions have evolved over the years, sometimes by accident, sometimes on purpose (injected humour and the like).\\\\n\\\\n'"
      ]
     },
     "execution_count": 27,
     "metadata": {},
     "output_type": "execute_result"
    }
   ],
   "source": [
    "#main_decode\n",
    "def main_decode(bin_path,huff_path,padding):\n",
    "    #-----------------------------------------\n",
    "    #decimal to any base conversion\n",
    "    def BaseConverter(decnumber,base):\n",
    "        digits = \"0123456789ABCDEF\"\n",
    "        remstack = []\n",
    "        if decnumber == 0:\n",
    "            return '00000000'\n",
    "        else:\n",
    "            while decnumber > 0:\n",
    "                rem = decnumber % base\n",
    "                remstack.append(rem)\n",
    "                decnumber = decnumber // base\n",
    "        \n",
    "            binstring = \"\"\n",
    "            while remstack:\n",
    "                binstring = binstring + digits[remstack.pop()]\n",
    "    \n",
    "            string_add = list(binstring) \n",
    "            if len(binstring)%8 != 0:\n",
    "                for i in range(8-len(binstring)%8):\n",
    "                    string_add.insert(0,'0')\n",
    "            string_add = ''.join(string_add)            \n",
    "            return string_add        \n",
    "    #------------read encode_file---------------\n",
    "    with open(bin_path, 'rb') as decode_file:\n",
    "        hexData = decode_file.read()\n",
    "    \n",
    "    #ASCII Char with hex convert to Decimal\n",
    "    hextobin_list = list(hexData)\n",
    "    \n",
    "    #decimal to binary conversion\n",
    "    decode_list = []\n",
    "    for decimal in hextobin_list:\n",
    "        decode_list.append(BaseConverter(decimal,2))\n",
    "    #exclude 0 padding term from string    \n",
    "    if padding == 0:\n",
    "        decode_str = ''.join(decode_list)\n",
    "    else:    \n",
    "        decode_str = ''.join(decode_list)[0:-1*padding]\n",
    "\n",
    "    #--------read huffcode dictionary file ----------\n",
    "    with open(huff_path, 'rb') as decode_huff:\n",
    "        huffData = decode_huff.read()    \n",
    "    import yaml\n",
    "    huffcode_dic = yaml.load(huffData)\n",
    "    #print(hextobin_list)\n",
    "    #return huffcode_dic\n",
    "    \n",
    "    #------------------decode--------------------\n",
    "    temp_str,temp_list,temp_dic = '',[],{}\n",
    "    #reverse huffcodes\n",
    "    for k,v in huffcode_dic.items():\n",
    "        temp_dic[v] = k\n",
    "        \n",
    "    for binary_code in decode_str:\n",
    "        temp_str += binary_code\n",
    "        if temp_str in temp_dic.keys():\n",
    "            temp_list.append(temp_dic[temp_str])\n",
    "            temp_str = ''\n",
    "    temp_list = ''.join(temp_list)         \n",
    "    return temp_list\n",
    " \n",
    "bin_path = '/Users/apple/desktop/pythoncode/encode_sample.bin'\n",
    "huff_path = '/Users/apple/desktop/pythoncode/encode_sample_huff.txt'\n",
    "padding = 1\n",
    "main_decode(bin_path,huff_path,padding)"
   ]
  }
 ],
 "metadata": {
  "anaconda-cloud": {},
  "kernelspec": {
   "display_name": "Python [default]",
   "language": "python",
   "name": "python3"
  },
  "language_info": {
   "codemirror_mode": {
    "name": "ipython",
    "version": 3
   },
   "file_extension": ".py",
   "mimetype": "text/x-python",
   "name": "python",
   "nbconvert_exporter": "python",
   "pygments_lexer": "ipython3",
   "version": "3.5.2"
  }
 },
 "nbformat": 4,
 "nbformat_minor": 2
}
